{
 "cells": [
  {
   "cell_type": "code",
   "execution_count": 6,
   "id": "initial_id",
   "metadata": {
    "collapsed": true,
    "ExecuteTime": {
     "end_time": "2024-02-17T17:26:24.993301Z",
     "start_time": "2024-02-17T17:26:18.628021Z"
    }
   },
   "outputs": [
    {
     "name": "stdout",
     "output_type": "stream",
     "text": [
      "Found existing installation: sentinelhub 3.10.1\r\n",
      "Uninstalling sentinelhub-3.10.1:\r\n",
      "  Would remove:\r\n",
      "    /Users/ramnaresh/anaconda3/envs/ComputerVision/bin/sentinelhub\r\n",
      "    /Users/ramnaresh/anaconda3/envs/ComputerVision/bin/sentinelhub.aws\r\n",
      "    /Users/ramnaresh/anaconda3/envs/ComputerVision/bin/sentinelhub.config\r\n",
      "    /Users/ramnaresh/anaconda3/envs/ComputerVision/bin/sentinelhub.download\r\n",
      "    /Users/ramnaresh/anaconda3/envs/ComputerVision/lib/python3.10/site-packages/sentinelhub-3.10.1.dist-info/*\r\n",
      "    /Users/ramnaresh/anaconda3/envs/ComputerVision/lib/python3.10/site-packages/sentinelhub/*\r\n",
      "Proceed (Y/n)? ^C\r\n",
      "\u001B[31mERROR: Operation cancelled by user\u001B[0m\u001B[31m\r\n",
      "\u001B[0m"
     ]
    }
   ],
   "source": [
    "! pip uninstall sentinelhub"
   ]
  },
  {
   "cell_type": "code",
   "execution_count": 4,
   "outputs": [
    {
     "name": "stdout",
     "output_type": "stream",
     "text": [
      "zsh:1: no matches found: sentinelhub[AWS]\r\n"
     ]
    }
   ],
   "source": [
    "! pip install sentinelhub[AWS]"
   ],
   "metadata": {
    "collapsed": false,
    "ExecuteTime": {
     "end_time": "2024-02-17T17:20:37.982473Z",
     "start_time": "2024-02-17T17:20:37.853271Z"
    }
   },
   "id": "720ab52aa35a62ce"
  },
  {
   "cell_type": "code",
   "execution_count": 10,
   "outputs": [],
   "source": [
    "# imports\n",
    "from sentinelhub import SHConfig, DataCollection\n",
    "from sentinelhub.aws import AwsTileRequest"
   ],
   "metadata": {
    "collapsed": false,
    "ExecuteTime": {
     "end_time": "2024-02-17T17:39:43.088781Z",
     "start_time": "2024-02-17T17:39:42.880547Z"
    }
   },
   "id": "f56dd3d9e8d10cc2"
  },
  {
   "cell_type": "code",
   "execution_count": 11,
   "outputs": [],
   "source": [
    "config = SHConfig()\n",
    "config.sh_client_id = \"sh-4a328a69-a211-4697-a086-269849435f9a\"\n",
    "config.sh_client_secret = \"9rLzpKSHTGdF92MisfTR2NoouWHkLUgA\""
   ],
   "metadata": {
    "collapsed": false,
    "ExecuteTime": {
     "end_time": "2024-02-17T17:41:04.193686Z",
     "start_time": "2024-02-17T17:41:04.181067Z"
    }
   },
   "id": "e0dd353e75327769"
  },
  {
   "cell_type": "code",
   "execution_count": 12,
   "outputs": [],
   "source": [
    "bbox = [15.80, 71.92, 6.6, 85.31]\n",
    "time_interval = ('2020-01-01', '2022-01-10')\n",
    "resolution = 10\n",
    "data_collection = DataCollection.SENTINEL2_L1C\n",
    "bands = ['B04', 'B08']"
   ],
   "metadata": {
    "collapsed": false,
    "ExecuteTime": {
     "end_time": "2024-02-17T17:45:03.566916Z",
     "start_time": "2024-02-17T17:45:03.554208Z"
    }
   },
   "id": "d647299540fc6052"
  },
  {
   "cell_type": "code",
   "execution_count": 26,
   "outputs": [
    {
     "name": "stderr",
     "output_type": "stream",
     "text": [
      "/var/folders/b0/43k3nkrx6vv3qbyw2gh54wd80000gn/T/ipykernel_40938/2374994637.py:1: SHDeprecationWarning: AWS functionality will remain in the codebase for now, but won't be actively maintained.\n",
      "  request = AwsTileRequest(\n"
     ]
    }
   ],
   "source": [
    "request = AwsTileRequest(\n",
    "    data_collection = data_collection,\n",
    "    tile=\"T10UEV\",\n",
    "    time=\"2020-01-01\",\n",
    "    aws_index=0,\n",
    "    bands=bands,\n",
    "    data_folder=\"./Data\",\n",
    "    config=config\n",
    ")"
   ],
   "metadata": {
    "collapsed": false,
    "ExecuteTime": {
     "end_time": "2024-02-17T18:02:51.191354Z",
     "start_time": "2024-02-17T18:02:50.875977Z"
    }
   },
   "id": "50bb9f647b374c6b"
  },
  {
   "cell_type": "code",
   "execution_count": 24,
   "outputs": [
    {
     "ename": "TypeError",
     "evalue": "DataRequest.save_data() got an unexpected keyword argument 'data_folder'",
     "output_type": "error",
     "traceback": [
      "\u001B[0;31m---------------------------------------------------------------------------\u001B[0m",
      "\u001B[0;31mTypeError\u001B[0m                                 Traceback (most recent call last)",
      "Cell \u001B[0;32mIn[24], line 1\u001B[0m\n\u001B[0;32m----> 1\u001B[0m \u001B[43mrequest\u001B[49m\u001B[38;5;241;43m.\u001B[39;49m\u001B[43msave_data\u001B[49m\u001B[43m(\u001B[49m\u001B[43mdata_folder\u001B[49m\u001B[38;5;241;43m=\u001B[39;49m\u001B[38;5;124;43m\"\u001B[39;49m\u001B[38;5;124;43m./Data\u001B[39;49m\u001B[38;5;124;43m\"\u001B[39;49m\u001B[43m)\u001B[49m\n",
      "\u001B[0;31mTypeError\u001B[0m: DataRequest.save_data() got an unexpected keyword argument 'data_folder'"
     ]
    }
   ],
   "source": [],
   "metadata": {
    "collapsed": false,
    "ExecuteTime": {
     "end_time": "2024-02-17T18:01:41.819408Z",
     "start_time": "2024-02-17T18:01:41.807812Z"
    }
   },
   "id": "d4a941ab0252121f"
  },
  {
   "cell_type": "code",
   "execution_count": null,
   "outputs": [],
   "source": [],
   "metadata": {
    "collapsed": false
   },
   "id": "83f632643f9595a3"
  }
 ],
 "metadata": {
  "kernelspec": {
   "display_name": "Python 3",
   "language": "python",
   "name": "python3"
  },
  "language_info": {
   "codemirror_mode": {
    "name": "ipython",
    "version": 2
   },
   "file_extension": ".py",
   "mimetype": "text/x-python",
   "name": "python",
   "nbconvert_exporter": "python",
   "pygments_lexer": "ipython2",
   "version": "2.7.6"
  }
 },
 "nbformat": 4,
 "nbformat_minor": 5
}

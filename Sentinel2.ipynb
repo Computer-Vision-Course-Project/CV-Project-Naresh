{
 "cells": [
  {
   "cell_type": "code",
   "execution_count": 3,
   "metadata": {
    "ExecuteTime": {
     "end_time": "2024-02-17T13:39:22.358318Z",
     "start_time": "2024-02-17T13:37:48.128310Z"
    }
   },
   "outputs": [
    {
     "name": "stdout",
     "output_type": "stream",
     "text": [
      "Collecting geemap\r\n",
      "  Downloading geemap-0.31.0-py2.py3-none-any.whl.metadata (14 kB)\r\n",
      "Collecting ee\r\n",
      "  Downloading ee-0.2.tar.gz (3.0 kB)\r\n",
      "  Preparing metadata (setup.py) ... \u001b[?25ldone\r\n",
      "\u001b[?25hCollecting bqplot (from geemap)\r\n",
      "  Downloading bqplot-0.12.42-py2.py3-none-any.whl.metadata (6.4 kB)\r\n",
      "Collecting colour (from geemap)\r\n",
      "  Downloading colour-0.1.5-py2.py3-none-any.whl (23 kB)\r\n",
      "Collecting earthengine-api>=0.1.347 (from geemap)\r\n",
      "  Downloading earthengine_api-0.1.390-py3-none-any.whl.metadata (1.7 kB)\r\n",
      "Collecting eerepr>=0.0.4 (from geemap)\r\n",
      "  Downloading eerepr-0.0.4-py3-none-any.whl (9.7 kB)\r\n",
      "Collecting folium>=0.13.0 (from geemap)\r\n",
      "  Downloading folium-0.15.1-py2.py3-none-any.whl.metadata (3.4 kB)\r\n",
      "Collecting geocoder (from geemap)\r\n",
      "  Downloading geocoder-1.38.1-py2.py3-none-any.whl (98 kB)\r\n",
      "\u001b[2K     \u001b[90m━━━━━━━━━━━━━━━━━━━━━━━━━━━━━━━━━━━━━━━\u001b[0m \u001b[32m98.6/98.6 kB\u001b[0m \u001b[31m403.2 kB/s\u001b[0m eta \u001b[36m0:00:00\u001b[0ma \u001b[36m0:00:01\u001b[0m\r\n",
      "\u001b[?25hCollecting ipyevents (from geemap)\r\n",
      "  Downloading ipyevents-2.0.2-py3-none-any.whl.metadata (2.9 kB)\r\n",
      "Collecting ipyfilechooser>=0.6.0 (from geemap)\r\n",
      "  Downloading ipyfilechooser-0.6.0-py3-none-any.whl (11 kB)\r\n",
      "Collecting ipyleaflet>=0.17.0 (from geemap)\r\n",
      "  Downloading ipyleaflet-0.18.2-py3-none-any.whl.metadata (1.0 kB)\r\n",
      "Collecting ipytree (from geemap)\r\n",
      "  Downloading ipytree-0.2.2-py2.py3-none-any.whl (1.3 MB)\r\n",
      "\u001b[2K     \u001b[90m━━━━━━━━━━━━━━━━━━━━━━━━━━━━━━━━━━━━━━━━\u001b[0m \u001b[32m1.3/1.3 MB\u001b[0m \u001b[31m385.7 kB/s\u001b[0m eta \u001b[36m0:00:00\u001b[0ma \u001b[36m0:00:01\u001b[0m\r\n",
      "\u001b[?25hRequirement already satisfied: matplotlib in /Users/ramnaresh/anaconda3/envs/ComputerVision/lib/python3.10/site-packages (from geemap) (3.8.0)\r\n",
      "Requirement already satisfied: numpy in /Users/ramnaresh/anaconda3/envs/ComputerVision/lib/python3.10/site-packages (from geemap) (1.26.0)\r\n",
      "Requirement already satisfied: pandas in /Users/ramnaresh/anaconda3/envs/ComputerVision/lib/python3.10/site-packages (from geemap) (2.1.1)\r\n",
      "Requirement already satisfied: plotly in /Users/ramnaresh/anaconda3/envs/ComputerVision/lib/python3.10/site-packages (from geemap) (5.18.0)\r\n",
      "Collecting pyperclip (from geemap)\r\n",
      "  Downloading pyperclip-1.8.2.tar.gz (20 kB)\r\n",
      "  Preparing metadata (setup.py) ... \u001b[?25ldone\r\n",
      "\u001b[?25hCollecting pyshp>=2.1.3 (from geemap)\r\n",
      "  Downloading pyshp-2.3.1-py2.py3-none-any.whl (46 kB)\r\n",
      "\u001b[2K     \u001b[90m━━━━━━━━━━━━━━━━━━━━━━━━━━━━━━━━━━━━━━━\u001b[0m \u001b[32m46.5/46.5 kB\u001b[0m \u001b[31m822.7 kB/s\u001b[0m eta \u001b[36m0:00:00\u001b[0m:--:--\u001b[0m\r\n",
      "\u001b[?25hCollecting python-box (from geemap)\r\n",
      "  Downloading python_box-7.1.1-py3-none-any.whl.metadata (7.8 kB)\r\n",
      "Collecting scooby (from geemap)\r\n",
      "  Downloading scooby-0.9.2-py3-none-any.whl.metadata (15 kB)\r\n",
      "Collecting blessings (from ee)\r\n",
      "  Downloading blessings-1.7-py3-none-any.whl (18 kB)\r\n",
      "Collecting google-cloud-storage (from earthengine-api>=0.1.347->geemap)\r\n",
      "  Downloading google_cloud_storage-2.14.0-py2.py3-none-any.whl.metadata (6.1 kB)\r\n",
      "Collecting google-api-python-client>=1.12.1 (from earthengine-api>=0.1.347->geemap)\r\n",
      "  Downloading google_api_python_client-2.118.0-py2.py3-none-any.whl.metadata (6.6 kB)\r\n",
      "Collecting google-auth>=1.4.1 (from earthengine-api>=0.1.347->geemap)\r\n",
      "  Downloading google_auth-2.28.0-py2.py3-none-any.whl.metadata (4.7 kB)\r\n",
      "Collecting google-auth-httplib2>=0.0.3 (from earthengine-api>=0.1.347->geemap)\r\n",
      "  Downloading google_auth_httplib2-0.2.0-py2.py3-none-any.whl.metadata (2.2 kB)\r\n",
      "Collecting httplib2<1dev,>=0.9.2 (from earthengine-api>=0.1.347->geemap)\r\n",
      "  Downloading httplib2-0.22.0-py3-none-any.whl.metadata (2.6 kB)\r\n",
      "Requirement already satisfied: requests in /Users/ramnaresh/anaconda3/envs/ComputerVision/lib/python3.10/site-packages (from earthengine-api>=0.1.347->geemap) (2.31.0)\r\n",
      "Collecting branca>=0.6.0 (from folium>=0.13.0->geemap)\r\n",
      "  Downloading branca-0.7.1-py3-none-any.whl.metadata (1.5 kB)\r\n",
      "Requirement already satisfied: jinja2>=2.9 in /Users/ramnaresh/anaconda3/envs/ComputerVision/lib/python3.10/site-packages (from folium>=0.13.0->geemap) (3.1.2)\r\n",
      "Collecting xyzservices (from folium>=0.13.0->geemap)\r\n",
      "  Downloading xyzservices-2023.10.1-py3-none-any.whl.metadata (4.0 kB)\r\n",
      "Requirement already satisfied: ipywidgets in /Users/ramnaresh/anaconda3/envs/ComputerVision/lib/python3.10/site-packages (from ipyfilechooser>=0.6.0->geemap) (8.0.4)\r\n",
      "Collecting traittypes<3,>=0.2.1 (from ipyleaflet>=0.17.0->geemap)\r\n",
      "  Downloading traittypes-0.2.1-py2.py3-none-any.whl (8.6 kB)\r\n",
      "Requirement already satisfied: six in /Users/ramnaresh/anaconda3/envs/ComputerVision/lib/python3.10/site-packages (from blessings->ee) (1.16.0)\r\n",
      "Requirement already satisfied: traitlets>=4.3.0 in /Users/ramnaresh/anaconda3/envs/ComputerVision/lib/python3.10/site-packages (from bqplot->geemap) (5.7.1)\r\n",
      "Requirement already satisfied: python-dateutil>=2.8.2 in /Users/ramnaresh/anaconda3/envs/ComputerVision/lib/python3.10/site-packages (from pandas->geemap) (2.8.2)\r\n",
      "Requirement already satisfied: pytz>=2020.1 in /Users/ramnaresh/anaconda3/envs/ComputerVision/lib/python3.10/site-packages (from pandas->geemap) (2023.3.post1)\r\n",
      "Requirement already satisfied: tzdata>=2022.1 in /Users/ramnaresh/anaconda3/envs/ComputerVision/lib/python3.10/site-packages (from pandas->geemap) (2023.3)\r\n",
      "Collecting click (from geocoder->geemap)\r\n",
      "  Using cached click-8.1.7-py3-none-any.whl.metadata (3.0 kB)\r\n",
      "Collecting future (from geocoder->geemap)\r\n",
      "  Downloading future-0.18.3.tar.gz (840 kB)\r\n",
      "\u001b[2K     \u001b[90m━━━━━━━━━━━━━━━━━━━━━━━━━━━━━━━━━━━━━\u001b[0m \u001b[32m840.9/840.9 kB\u001b[0m \u001b[31m510.9 kB/s\u001b[0m eta \u001b[36m0:00:00\u001b[0m00:01\u001b[0m00:01\u001b[0m\r\n",
      "\u001b[?25h  Preparing metadata (setup.py) ... \u001b[?25ldone\r\n",
      "\u001b[?25hCollecting ratelim (from geocoder->geemap)\r\n",
      "  Downloading ratelim-0.1.6-py2.py3-none-any.whl (4.0 kB)\r\n",
      "Requirement already satisfied: contourpy>=1.0.1 in /Users/ramnaresh/anaconda3/envs/ComputerVision/lib/python3.10/site-packages (from matplotlib->geemap) (1.0.5)\r\n",
      "Requirement already satisfied: cycler>=0.10 in /Users/ramnaresh/anaconda3/envs/ComputerVision/lib/python3.10/site-packages (from matplotlib->geemap) (0.11.0)\r\n",
      "Requirement already satisfied: fonttools>=4.22.0 in /Users/ramnaresh/anaconda3/envs/ComputerVision/lib/python3.10/site-packages (from matplotlib->geemap) (4.25.0)\r\n",
      "Requirement already satisfied: kiwisolver>=1.0.1 in /Users/ramnaresh/anaconda3/envs/ComputerVision/lib/python3.10/site-packages (from matplotlib->geemap) (1.4.4)\r\n",
      "Requirement already satisfied: packaging>=20.0 in /Users/ramnaresh/anaconda3/envs/ComputerVision/lib/python3.10/site-packages (from matplotlib->geemap) (23.1)\r\n",
      "Requirement already satisfied: pillow>=6.2.0 in /Users/ramnaresh/anaconda3/envs/ComputerVision/lib/python3.10/site-packages (from matplotlib->geemap) (10.0.1)\r\n",
      "Requirement already satisfied: pyparsing>=2.3.1 in /Users/ramnaresh/anaconda3/envs/ComputerVision/lib/python3.10/site-packages (from matplotlib->geemap) (3.0.9)\r\n",
      "Requirement already satisfied: tenacity>=6.2.0 in /Users/ramnaresh/anaconda3/envs/ComputerVision/lib/python3.10/site-packages (from plotly->geemap) (8.2.3)\r\n",
      "Collecting google-api-core!=2.0.*,!=2.1.*,!=2.2.*,!=2.3.0,<3.0.0.dev0,>=1.31.5 (from google-api-python-client>=1.12.1->earthengine-api>=0.1.347->geemap)\r\n",
      "  Downloading google_api_core-2.17.1-py3-none-any.whl.metadata (2.7 kB)\r\n",
      "Collecting uritemplate<5,>=3.0.1 (from google-api-python-client>=1.12.1->earthengine-api>=0.1.347->geemap)\r\n",
      "  Downloading uritemplate-4.1.1-py2.py3-none-any.whl (10 kB)\r\n",
      "Collecting cachetools<6.0,>=2.0.0 (from google-auth>=1.4.1->earthengine-api>=0.1.347->geemap)\r\n",
      "  Using cached cachetools-5.3.2-py3-none-any.whl.metadata (5.2 kB)\r\n",
      "Collecting pyasn1-modules>=0.2.1 (from google-auth>=1.4.1->earthengine-api>=0.1.347->geemap)\r\n",
      "  Downloading pyasn1_modules-0.3.0-py2.py3-none-any.whl.metadata (3.6 kB)\r\n",
      "Collecting rsa<5,>=3.1.4 (from google-auth>=1.4.1->earthengine-api>=0.1.347->geemap)\r\n",
      "  Using cached rsa-4.9-py3-none-any.whl (34 kB)\r\n",
      "Requirement already satisfied: ipykernel>=4.5.1 in /Users/ramnaresh/anaconda3/envs/ComputerVision/lib/python3.10/site-packages (from ipywidgets->ipyfilechooser>=0.6.0->geemap) (6.25.0)\r\n",
      "Requirement already satisfied: ipython>=6.1.0 in /Users/ramnaresh/anaconda3/envs/ComputerVision/lib/python3.10/site-packages (from ipywidgets->ipyfilechooser>=0.6.0->geemap) (8.15.0)\r\n",
      "Requirement already satisfied: widgetsnbextension~=4.0 in /Users/ramnaresh/anaconda3/envs/ComputerVision/lib/python3.10/site-packages (from ipywidgets->ipyfilechooser>=0.6.0->geemap) (4.0.5)\r\n",
      "Requirement already satisfied: jupyterlab-widgets~=3.0 in /Users/ramnaresh/anaconda3/envs/ComputerVision/lib/python3.10/site-packages (from ipywidgets->ipyfilechooser>=0.6.0->geemap) (3.0.5)\r\n",
      "Requirement already satisfied: MarkupSafe>=2.0 in /Users/ramnaresh/anaconda3/envs/ComputerVision/lib/python3.10/site-packages (from jinja2>=2.9->folium>=0.13.0->geemap) (2.1.1)\r\n",
      "Collecting google-cloud-core<3.0dev,>=2.3.0 (from google-cloud-storage->earthengine-api>=0.1.347->geemap)\r\n",
      "  Downloading google_cloud_core-2.4.1-py2.py3-none-any.whl.metadata (2.7 kB)\r\n",
      "Collecting google-resumable-media>=2.6.0 (from google-cloud-storage->earthengine-api>=0.1.347->geemap)\r\n",
      "  Downloading google_resumable_media-2.7.0-py2.py3-none-any.whl.metadata (2.2 kB)\r\n",
      "Collecting google-crc32c<2.0dev,>=1.0 (from google-cloud-storage->earthengine-api>=0.1.347->geemap)\r\n",
      "  Downloading google_crc32c-1.5.0-cp310-cp310-macosx_10_9_universal2.whl (32 kB)\r\n",
      "Requirement already satisfied: charset-normalizer<4,>=2 in /Users/ramnaresh/anaconda3/envs/ComputerVision/lib/python3.10/site-packages (from requests->earthengine-api>=0.1.347->geemap) (2.0.4)\r\n",
      "Requirement already satisfied: idna<4,>=2.5 in /Users/ramnaresh/anaconda3/envs/ComputerVision/lib/python3.10/site-packages (from requests->earthengine-api>=0.1.347->geemap) (3.4)\r\n",
      "Requirement already satisfied: urllib3<3,>=1.21.1 in /Users/ramnaresh/anaconda3/envs/ComputerVision/lib/python3.10/site-packages (from requests->earthengine-api>=0.1.347->geemap) (1.26.18)\r\n",
      "Requirement already satisfied: certifi>=2017.4.17 in /Users/ramnaresh/anaconda3/envs/ComputerVision/lib/python3.10/site-packages (from requests->earthengine-api>=0.1.347->geemap) (2023.7.22)\r\n",
      "Requirement already satisfied: decorator in /Users/ramnaresh/anaconda3/envs/ComputerVision/lib/python3.10/site-packages (from ratelim->geocoder->geemap) (5.1.1)\r\n",
      "Collecting googleapis-common-protos<2.0.dev0,>=1.56.2 (from google-api-core!=2.0.*,!=2.1.*,!=2.2.*,!=2.3.0,<3.0.0.dev0,>=1.31.5->google-api-python-client>=1.12.1->earthengine-api>=0.1.347->geemap)\r\n",
      "  Downloading googleapis_common_protos-1.62.0-py2.py3-none-any.whl.metadata (1.5 kB)\r\n",
      "Collecting protobuf!=3.20.0,!=3.20.1,!=4.21.0,!=4.21.1,!=4.21.2,!=4.21.3,!=4.21.4,!=4.21.5,<5.0.0.dev0,>=3.19.5 (from google-api-core!=2.0.*,!=2.1.*,!=2.2.*,!=2.3.0,<3.0.0.dev0,>=1.31.5->google-api-python-client>=1.12.1->earthengine-api>=0.1.347->geemap)\r\n",
      "  Downloading protobuf-4.25.3-cp37-abi3-macosx_10_9_universal2.whl.metadata (541 bytes)\r\n",
      "Requirement already satisfied: appnope in /Users/ramnaresh/anaconda3/envs/ComputerVision/lib/python3.10/site-packages (from ipykernel>=4.5.1->ipywidgets->ipyfilechooser>=0.6.0->geemap) (0.1.2)\r\n",
      "Requirement already satisfied: comm>=0.1.1 in /Users/ramnaresh/anaconda3/envs/ComputerVision/lib/python3.10/site-packages (from ipykernel>=4.5.1->ipywidgets->ipyfilechooser>=0.6.0->geemap) (0.1.2)\r\n",
      "Requirement already satisfied: debugpy>=1.6.5 in /Users/ramnaresh/anaconda3/envs/ComputerVision/lib/python3.10/site-packages (from ipykernel>=4.5.1->ipywidgets->ipyfilechooser>=0.6.0->geemap) (1.6.7)\r\n",
      "Requirement already satisfied: jupyter-client>=6.1.12 in /Users/ramnaresh/anaconda3/envs/ComputerVision/lib/python3.10/site-packages (from ipykernel>=4.5.1->ipywidgets->ipyfilechooser>=0.6.0->geemap) (7.4.9)\r\n",
      "Requirement already satisfied: jupyter-core!=5.0.*,>=4.12 in /Users/ramnaresh/anaconda3/envs/ComputerVision/lib/python3.10/site-packages (from ipykernel>=4.5.1->ipywidgets->ipyfilechooser>=0.6.0->geemap) (5.5.0)\r\n",
      "Requirement already satisfied: matplotlib-inline>=0.1 in /Users/ramnaresh/anaconda3/envs/ComputerVision/lib/python3.10/site-packages (from ipykernel>=4.5.1->ipywidgets->ipyfilechooser>=0.6.0->geemap) (0.1.6)\r\n",
      "Requirement already satisfied: nest-asyncio in /Users/ramnaresh/anaconda3/envs/ComputerVision/lib/python3.10/site-packages (from ipykernel>=4.5.1->ipywidgets->ipyfilechooser>=0.6.0->geemap) (1.5.6)\r\n",
      "Requirement already satisfied: psutil in /Users/ramnaresh/anaconda3/envs/ComputerVision/lib/python3.10/site-packages (from ipykernel>=4.5.1->ipywidgets->ipyfilechooser>=0.6.0->geemap) (5.9.0)\r\n",
      "Requirement already satisfied: pyzmq>=20 in /Users/ramnaresh/anaconda3/envs/ComputerVision/lib/python3.10/site-packages (from ipykernel>=4.5.1->ipywidgets->ipyfilechooser>=0.6.0->geemap) (23.2.0)\r\n",
      "Requirement already satisfied: tornado>=6.1 in /Users/ramnaresh/anaconda3/envs/ComputerVision/lib/python3.10/site-packages (from ipykernel>=4.5.1->ipywidgets->ipyfilechooser>=0.6.0->geemap) (6.3.3)\r\n",
      "Requirement already satisfied: backcall in /Users/ramnaresh/anaconda3/envs/ComputerVision/lib/python3.10/site-packages (from ipython>=6.1.0->ipywidgets->ipyfilechooser>=0.6.0->geemap) (0.2.0)\r\n",
      "Requirement already satisfied: jedi>=0.16 in /Users/ramnaresh/anaconda3/envs/ComputerVision/lib/python3.10/site-packages (from ipython>=6.1.0->ipywidgets->ipyfilechooser>=0.6.0->geemap) (0.18.1)\r\n",
      "Requirement already satisfied: pickleshare in /Users/ramnaresh/anaconda3/envs/ComputerVision/lib/python3.10/site-packages (from ipython>=6.1.0->ipywidgets->ipyfilechooser>=0.6.0->geemap) (0.7.5)\r\n",
      "Requirement already satisfied: prompt-toolkit!=3.0.37,<3.1.0,>=3.0.30 in /Users/ramnaresh/anaconda3/envs/ComputerVision/lib/python3.10/site-packages (from ipython>=6.1.0->ipywidgets->ipyfilechooser>=0.6.0->geemap) (3.0.36)\r\n",
      "Requirement already satisfied: pygments>=2.4.0 in /Users/ramnaresh/anaconda3/envs/ComputerVision/lib/python3.10/site-packages (from ipython>=6.1.0->ipywidgets->ipyfilechooser>=0.6.0->geemap) (2.15.1)\r\n",
      "Requirement already satisfied: stack-data in /Users/ramnaresh/anaconda3/envs/ComputerVision/lib/python3.10/site-packages (from ipython>=6.1.0->ipywidgets->ipyfilechooser>=0.6.0->geemap) (0.2.0)\r\n",
      "Requirement already satisfied: exceptiongroup in /Users/ramnaresh/anaconda3/envs/ComputerVision/lib/python3.10/site-packages (from ipython>=6.1.0->ipywidgets->ipyfilechooser>=0.6.0->geemap) (1.0.4)\r\n",
      "Requirement already satisfied: pexpect>4.3 in /Users/ramnaresh/anaconda3/envs/ComputerVision/lib/python3.10/site-packages (from ipython>=6.1.0->ipywidgets->ipyfilechooser>=0.6.0->geemap) (4.8.0)\r\n",
      "Collecting pyasn1<0.6.0,>=0.4.6 (from pyasn1-modules>=0.2.1->google-auth>=1.4.1->earthengine-api>=0.1.347->geemap)\r\n",
      "  Downloading pyasn1-0.5.1-py2.py3-none-any.whl.metadata (8.6 kB)\r\n",
      "Requirement already satisfied: parso<0.9.0,>=0.8.0 in /Users/ramnaresh/anaconda3/envs/ComputerVision/lib/python3.10/site-packages (from jedi>=0.16->ipython>=6.1.0->ipywidgets->ipyfilechooser>=0.6.0->geemap) (0.8.3)\r\n",
      "Requirement already satisfied: entrypoints in /Users/ramnaresh/anaconda3/envs/ComputerVision/lib/python3.10/site-packages (from jupyter-client>=6.1.12->ipykernel>=4.5.1->ipywidgets->ipyfilechooser>=0.6.0->geemap) (0.4)\r\n",
      "Requirement already satisfied: platformdirs>=2.5 in /Users/ramnaresh/anaconda3/envs/ComputerVision/lib/python3.10/site-packages (from jupyter-core!=5.0.*,>=4.12->ipykernel>=4.5.1->ipywidgets->ipyfilechooser>=0.6.0->geemap) (3.10.0)\r\n",
      "Requirement already satisfied: ptyprocess>=0.5 in /Users/ramnaresh/anaconda3/envs/ComputerVision/lib/python3.10/site-packages (from pexpect>4.3->ipython>=6.1.0->ipywidgets->ipyfilechooser>=0.6.0->geemap) (0.7.0)\r\n",
      "Requirement already satisfied: wcwidth in /Users/ramnaresh/anaconda3/envs/ComputerVision/lib/python3.10/site-packages (from prompt-toolkit!=3.0.37,<3.1.0,>=3.0.30->ipython>=6.1.0->ipywidgets->ipyfilechooser>=0.6.0->geemap) (0.2.5)\r\n",
      "Requirement already satisfied: executing in /Users/ramnaresh/anaconda3/envs/ComputerVision/lib/python3.10/site-packages (from stack-data->ipython>=6.1.0->ipywidgets->ipyfilechooser>=0.6.0->geemap) (0.8.3)\r\n",
      "Requirement already satisfied: asttokens in /Users/ramnaresh/anaconda3/envs/ComputerVision/lib/python3.10/site-packages (from stack-data->ipython>=6.1.0->ipywidgets->ipyfilechooser>=0.6.0->geemap) (2.0.5)\r\n",
      "Requirement already satisfied: pure-eval in /Users/ramnaresh/anaconda3/envs/ComputerVision/lib/python3.10/site-packages (from stack-data->ipython>=6.1.0->ipywidgets->ipyfilechooser>=0.6.0->geemap) (0.2.2)\r\n",
      "Downloading geemap-0.31.0-py2.py3-none-any.whl (2.2 MB)\r\n",
      "\u001b[2K   \u001b[90m━━━━━━━━━━━━━━━━━━━━━━━━━━━━━━━━━━━━━━━━\u001b[0m \u001b[32m2.2/2.2 MB\u001b[0m \u001b[31m520.6 kB/s\u001b[0m eta \u001b[36m0:00:00\u001b[0ma \u001b[36m0:00:01\u001b[0m\r\n",
      "\u001b[?25hDownloading earthengine_api-0.1.390-py3-none-any.whl (314 kB)\r\n",
      "\u001b[2K   \u001b[90m━━━━━━━━━━━━━━━━━━━━━━━━━━━━━━━━━━━━━━━\u001b[0m \u001b[32m314.6/314.6 kB\u001b[0m \u001b[31m958.7 kB/s\u001b[0m eta \u001b[36m0:00:00\u001b[0ma \u001b[36m0:00:01\u001b[0m\r\n",
      "\u001b[?25hDownloading folium-0.15.1-py2.py3-none-any.whl (97 kB)\r\n",
      "\u001b[2K   \u001b[90m━━━━━━━━━━━━━━━━━━━━━━━━━━━━━━━━━━━━━━━━\u001b[0m \u001b[32m97.0/97.0 kB\u001b[0m \u001b[31m1.8 MB/s\u001b[0m eta \u001b[36m0:00:00\u001b[0ma \u001b[36m0:00:01\u001b[0m\r\n",
      "\u001b[?25hDownloading ipyleaflet-0.18.2-py3-none-any.whl (3.7 MB)\r\n",
      "\u001b[2K   \u001b[90m━━━━━━━━━━━━━━━━━━━━━━━━━━━━━━━━━━━━━━━━\u001b[0m \u001b[32m3.7/3.7 MB\u001b[0m \u001b[31m544.6 kB/s\u001b[0m eta \u001b[36m0:00:00\u001b[0m00:01\u001b[0m00:01\u001b[0m\r\n",
      "\u001b[?25hDownloading bqplot-0.12.42-py2.py3-none-any.whl (1.2 MB)\r\n",
      "\u001b[2K   \u001b[90m━━━━━━━━━━━━━━━━━━━━━━━━━━━━━━━━━━━━━━━━\u001b[0m \u001b[32m1.2/1.2 MB\u001b[0m \u001b[31m372.4 kB/s\u001b[0m eta \u001b[36m0:00:00\u001b[0m00:01\u001b[0m00:01\u001b[0m\r\n",
      "\u001b[?25hDownloading ipyevents-2.0.2-py3-none-any.whl (101 kB)\r\n",
      "\u001b[2K   \u001b[90m━━━━━━━━━━━━━━━━━━━━━━━━━━━━━━━━━━━━━━━\u001b[0m \u001b[32m101.8/101.8 kB\u001b[0m \u001b[31m578.0 kB/s\u001b[0m eta \u001b[36m0:00:00\u001b[0ma \u001b[36m0:00:01\u001b[0m\r\n",
      "\u001b[?25hDownloading python_box-7.1.1-py3-none-any.whl (28 kB)\r\n",
      "Downloading scooby-0.9.2-py3-none-any.whl (18 kB)\r\n",
      "Downloading branca-0.7.1-py3-none-any.whl (25 kB)\r\n",
      "Downloading google_api_python_client-2.118.0-py2.py3-none-any.whl (12.1 MB)\r\n",
      "\u001b[2K   \u001b[90m━━━━━━━━━━━━━━━━━━━━━━━━━━━━━━━━━━━━━━━━\u001b[0m \u001b[32m12.1/12.1 MB\u001b[0m \u001b[31m145.5 kB/s\u001b[0m eta \u001b[36m0:00:00\u001b[0m00:01\u001b[0m00:03\u001b[0m\r\n",
      "\u001b[?25hDownloading google_auth-2.28.0-py2.py3-none-any.whl (186 kB)\r\n",
      "\u001b[2K   \u001b[90m━━━━━━━━━━━━━━━━━━━━━━━━━━━━━━━━━━━━━━━\u001b[0m \u001b[32m186.9/186.9 kB\u001b[0m \u001b[31m366.9 kB/s\u001b[0m eta \u001b[36m0:00:00\u001b[0ma \u001b[36m0:00:01\u001b[0m\r\n",
      "\u001b[?25hDownloading google_auth_httplib2-0.2.0-py2.py3-none-any.whl (9.3 kB)\r\n",
      "Downloading httplib2-0.22.0-py3-none-any.whl (96 kB)\r\n",
      "\u001b[2K   \u001b[90m━━━━━━━━━━━━━━━━━━━━━━━━━━━━━━━━━━━━━━━━\u001b[0m \u001b[32m96.9/96.9 kB\u001b[0m \u001b[31m448.5 kB/s\u001b[0m eta \u001b[36m0:00:00\u001b[0ma \u001b[36m0:00:01\u001b[0m\r\n",
      "\u001b[?25hDownloading xyzservices-2023.10.1-py3-none-any.whl (56 kB)\r\n",
      "\u001b[2K   \u001b[90m━━━━━━━━━━━━━━━━━━━━━━━━━━━━━━━━━━━━━━━━\u001b[0m \u001b[32m56.3/56.3 kB\u001b[0m \u001b[31m456.0 kB/s\u001b[0m eta \u001b[36m0:00:00\u001b[0ma \u001b[36m0:00:01\u001b[0m\r\n",
      "\u001b[?25hUsing cached click-8.1.7-py3-none-any.whl (97 kB)\r\n",
      "Downloading google_cloud_storage-2.14.0-py2.py3-none-any.whl (121 kB)\r\n",
      "\u001b[2K   \u001b[90m━━━━━━━━━━━━━━━━━━━━━━━━━━━━━━━━━━━━━━━\u001b[0m \u001b[32m121.6/121.6 kB\u001b[0m \u001b[31m527.9 kB/s\u001b[0m eta \u001b[36m0:00:00\u001b[0ma \u001b[36m0:00:01\u001b[0m\r\n",
      "\u001b[?25hUsing cached cachetools-5.3.2-py3-none-any.whl (9.3 kB)\r\n",
      "Downloading google_api_core-2.17.1-py3-none-any.whl (137 kB)\r\n",
      "\u001b[2K   \u001b[90m━━━━━━━━━━━━━━━━━━━━━━━━━━━━━━━━━━━━━━━\u001b[0m \u001b[32m137.0/137.0 kB\u001b[0m \u001b[31m495.9 kB/s\u001b[0m eta \u001b[36m0:00:00\u001b[0ma \u001b[36m0:00:01\u001b[0m\r\n",
      "\u001b[?25hDownloading google_cloud_core-2.4.1-py2.py3-none-any.whl (29 kB)\r\n",
      "Downloading google_resumable_media-2.7.0-py2.py3-none-any.whl (80 kB)\r\n",
      "\u001b[2K   \u001b[90m━━━━━━━━━━━━━━━━━━━━━━━━━━━━━━━━━━━━━━━━\u001b[0m \u001b[32m80.6/80.6 kB\u001b[0m \u001b[31m457.6 kB/s\u001b[0m eta \u001b[36m0:00:00\u001b[0ma \u001b[36m0:00:01\u001b[0m\r\n",
      "\u001b[?25hUsing cached pyasn1_modules-0.3.0-py2.py3-none-any.whl (181 kB)\r\n",
      "Downloading googleapis_common_protos-1.62.0-py2.py3-none-any.whl (228 kB)\r\n",
      "\u001b[2K   \u001b[90m━━━━━━━━━━━━━━━━━━━━━━━━━━━━━━━━━━━━━━━\u001b[0m \u001b[32m228.7/228.7 kB\u001b[0m \u001b[31m427.1 kB/s\u001b[0m eta \u001b[36m0:00:00\u001b[0m00:01\u001b[0m00:01\u001b[0m\r\n",
      "\u001b[?25hDownloading protobuf-4.25.3-cp37-abi3-macosx_10_9_universal2.whl (394 kB)\r\n",
      "\u001b[2K   \u001b[90m━━━━━━━━━━━━━━━━━━━━━━━━━━━━━━━━━━━━━━━\u001b[0m \u001b[32m394.2/394.2 kB\u001b[0m \u001b[31m482.8 kB/s\u001b[0m eta \u001b[36m0:00:00\u001b[0m00:01\u001b[0m00:01\u001b[0m\r\n",
      "\u001b[?25hDownloading pyasn1-0.5.1-py2.py3-none-any.whl (84 kB)\r\n",
      "\u001b[2K   \u001b[90m━━━━━━━━━━━━━━━━━━━━━━━━━━━━━━━━━━━━━━━━\u001b[0m \u001b[32m84.9/84.9 kB\u001b[0m \u001b[31m607.2 kB/s\u001b[0m eta \u001b[36m0:00:00\u001b[0ma \u001b[36m0:00:01\u001b[0m\r\n",
      "\u001b[?25hBuilding wheels for collected packages: ee, pyperclip, future\r\n",
      "  Building wheel for ee (setup.py) ... \u001b[?25ldone\r\n",
      "\u001b[?25h  Created wheel for ee: filename=ee-0.2-py3-none-any.whl size=3655 sha256=42bc04222f9567d613736827cbf3ea2a22dae94969ea40f97e352b9933052e2f\r\n",
      "  Stored in directory: /Users/ramnaresh/Library/Caches/pip/wheels/cb/b1/a5/d16d395d190f232181add4c4af67a74c2de272875759921aef\r\n",
      "  Building wheel for pyperclip (setup.py) ... \u001b[?25ldone\r\n",
      "\u001b[?25h  Created wheel for pyperclip: filename=pyperclip-1.8.2-py3-none-any.whl size=11125 sha256=486c479e1f49bbacc811c4b1730692bb4113ec448f82f14b4227e8d30bbae672\r\n",
      "  Stored in directory: /Users/ramnaresh/Library/Caches/pip/wheels/04/24/fe/140a94a7f1036003ede94579e6b4227fe96c840c6f4dcbe307\r\n",
      "  Building wheel for future (setup.py) ... \u001b[?25ldone\r\n",
      "\u001b[?25h  Created wheel for future: filename=future-0.18.3-py3-none-any.whl size=492024 sha256=422397047b95114de0383f13f11ce71a91c4bda22a30a278931816f4fdf4f567\r\n",
      "  Stored in directory: /Users/ramnaresh/Library/Caches/pip/wheels/5e/a9/47/f118e66afd12240e4662752cc22cefae5d97275623aa8ef57d\r\n",
      "Successfully built ee pyperclip future\r\n",
      "Installing collected packages: pyperclip, colour, xyzservices, uritemplate, traittypes, scooby, ratelim, python-box, pyshp, pyasn1, protobuf, httplib2, google-crc32c, future, click, cachetools, blessings, rsa, pyasn1-modules, googleapis-common-protos, google-resumable-media, geocoder, ee, branca, google-auth, folium, google-auth-httplib2, google-api-core, google-cloud-core, google-api-python-client, ipytree, ipyleaflet, ipyfilechooser, ipyevents, google-cloud-storage, bqplot, earthengine-api, eerepr, geemap\r\n",
      "Successfully installed blessings-1.7 bqplot-0.12.42 branca-0.7.1 cachetools-5.3.2 click-8.1.7 colour-0.1.5 earthengine-api-0.1.390 ee-0.2 eerepr-0.0.4 folium-0.15.1 future-0.18.3 geemap-0.31.0 geocoder-1.38.1 google-api-core-2.17.1 google-api-python-client-2.118.0 google-auth-2.28.0 google-auth-httplib2-0.2.0 google-cloud-core-2.4.1 google-cloud-storage-2.14.0 google-crc32c-1.5.0 google-resumable-media-2.7.0 googleapis-common-protos-1.62.0 httplib2-0.22.0 ipyevents-2.0.2 ipyfilechooser-0.6.0 ipyleaflet-0.18.2 ipytree-0.2.2 protobuf-4.25.3 pyasn1-0.5.1 pyasn1-modules-0.3.0 pyperclip-1.8.2 pyshp-2.3.1 python-box-7.1.1 ratelim-0.1.6 rsa-4.9 scooby-0.9.2 traittypes-0.2.1 uritemplate-4.1.1 xyzservices-2023.10.1\r\n"
     ]
    }
   ],
   "source": [
    "! pip install geemap ee"
   ]
  },
  {
   "cell_type": "code",
   "execution_count": 4,
   "metadata": {
    "ExecuteTime": {
     "end_time": "2024-02-17T13:39:27.902966Z",
     "start_time": "2024-02-17T13:39:26.960759Z"
    },
    "id": "W5i02TrNP4Lf"
   },
   "outputs": [],
   "source": [
    "import geemap"
   ]
  },
  {
   "cell_type": "code",
   "execution_count": 5,
   "metadata": {
    "ExecuteTime": {
     "end_time": "2024-02-17T13:39:29.526882Z",
     "start_time": "2024-02-17T13:39:29.524650Z"
    }
   },
   "outputs": [
    {
     "data": {
      "text/html": [
       "\n",
       "            <style>\n",
       "                .geemap-dark {\n",
       "                    --jp-widgets-color: white;\n",
       "                    --jp-widgets-label-color: white;\n",
       "                    --jp-ui-font-color1: white;\n",
       "                    --jp-layout-color2: #454545;\n",
       "                    background-color: #383838;\n",
       "                }\n",
       "                    \n",
       "                .geemap-dark .jupyter-button {\n",
       "                    --jp-layout-color3: #383838;\n",
       "                }\n",
       "                \n",
       "                .geemap-colab {\n",
       "                    background-color: var(--colab-primary-surface-color, white);\n",
       "                }\n",
       "                    \n",
       "                .geemap-colab .jupyter-button {\n",
       "                    --jp-layout-color3: var(--colab-primary-surface-color, white);\n",
       "                }\n",
       "            </style>\n",
       "            "
      ],
      "text/plain": [
       "<IPython.core.display.HTML object>"
      ]
     },
     "metadata": {},
     "output_type": "display_data"
    }
   ],
   "source": [
    "import ee"
   ]
  },
  {
   "cell_type": "code",
   "execution_count": 9,
   "metadata": {
    "ExecuteTime": {
     "end_time": "2024-02-17T13:45:56.775942Z",
     "start_time": "2024-02-17T13:45:50.623931Z"
    }
   },
   "outputs": [
    {
     "data": {
      "text/html": [
       "\n",
       "            <style>\n",
       "                .geemap-dark {\n",
       "                    --jp-widgets-color: white;\n",
       "                    --jp-widgets-label-color: white;\n",
       "                    --jp-ui-font-color1: white;\n",
       "                    --jp-layout-color2: #454545;\n",
       "                    background-color: #383838;\n",
       "                }\n",
       "                    \n",
       "                .geemap-dark .jupyter-button {\n",
       "                    --jp-layout-color3: #383838;\n",
       "                }\n",
       "                \n",
       "                .geemap-colab {\n",
       "                    background-color: var(--colab-primary-surface-color, white);\n",
       "                }\n",
       "                    \n",
       "                .geemap-colab .jupyter-button {\n",
       "                    --jp-layout-color3: var(--colab-primary-surface-color, white);\n",
       "                }\n",
       "            </style>\n",
       "            "
      ],
      "text/plain": [
       "<IPython.core.display.HTML object>"
      ]
     },
     "metadata": {},
     "output_type": "display_data"
    }
   ],
   "source": [
    "geemap.ee.Initialize()\n"
   ]
  },
  {
   "cell_type": "code",
   "execution_count": 8,
   "metadata": {
    "ExecuteTime": {
     "end_time": "2024-02-17T13:45:43.885591Z",
     "start_time": "2024-02-17T13:44:39.548129Z"
    }
   },
   "outputs": [
    {
     "data": {
      "text/html": [
       "\n",
       "            <style>\n",
       "                .geemap-dark {\n",
       "                    --jp-widgets-color: white;\n",
       "                    --jp-widgets-label-color: white;\n",
       "                    --jp-ui-font-color1: white;\n",
       "                    --jp-layout-color2: #454545;\n",
       "                    background-color: #383838;\n",
       "                }\n",
       "                    \n",
       "                .geemap-dark .jupyter-button {\n",
       "                    --jp-layout-color3: #383838;\n",
       "                }\n",
       "                \n",
       "                .geemap-colab {\n",
       "                    background-color: var(--colab-primary-surface-color, white);\n",
       "                }\n",
       "                    \n",
       "                .geemap-colab .jupyter-button {\n",
       "                    --jp-layout-color3: var(--colab-primary-surface-color, white);\n",
       "                }\n",
       "            </style>\n",
       "            "
      ],
      "text/plain": [
       "<IPython.core.display.HTML object>"
      ]
     },
     "metadata": {},
     "output_type": "display_data"
    },
    {
     "data": {
      "text/html": [
       "<p>To authorize access needed by Earth Engine, open the following\n",
       "        URL in a web browser and follow the instructions:</p>\n",
       "        <p><a href=https://code.earthengine.google.com/client-auth?scopes=https%3A//www.googleapis.com/auth/earthengine%20https%3A//www.googleapis.com/auth/cloud-platform%20https%3A//www.googleapis.com/auth/devstorage.full_control&request_id=vFXIXs_erLJFVSGeDS3wyUSZNVxTWQWQyNwV8XvEgQw&tc=oyFS5W5VWRatHZKzGDhQuW6m1B9Gliv0OiO76hQ-4sA&cc=Q99qROnkBRx8BV_9ev6YnE0CB-_RuB3iK0tdxXzJf44>https://code.earthengine.google.com/client-auth?scopes=https%3A//www.googleapis.com/auth/earthengine%20https%3A//www.googleapis.com/auth/cloud-platform%20https%3A//www.googleapis.com/auth/devstorage.full_control&request_id=vFXIXs_erLJFVSGeDS3wyUSZNVxTWQWQyNwV8XvEgQw&tc=oyFS5W5VWRatHZKzGDhQuW6m1B9Gliv0OiO76hQ-4sA&cc=Q99qROnkBRx8BV_9ev6YnE0CB-_RuB3iK0tdxXzJf44</a></p>\n",
       "        <p>The authorization workflow will generate a code, which you should paste in the box below.</p>\n",
       "        "
      ],
      "text/plain": [
       "<IPython.core.display.HTML object>"
      ]
     },
     "metadata": {},
     "output_type": "display_data"
    },
    {
     "name": "stdout",
     "output_type": "stream",
     "text": [
      "\n",
      "Successfully saved authorization token.\n"
     ]
    }
   ],
   "source": [
    "ee.Authenticate()"
   ]
  },
  {
   "cell_type": "code",
   "execution_count": 10,
   "metadata": {
    "ExecuteTime": {
     "end_time": "2024-02-17T13:46:35.604038Z",
     "start_time": "2024-02-17T13:46:35.591285Z"
    }
   },
   "outputs": [
    {
     "data": {
      "text/html": [
       "\n",
       "            <style>\n",
       "                .geemap-dark {\n",
       "                    --jp-widgets-color: white;\n",
       "                    --jp-widgets-label-color: white;\n",
       "                    --jp-ui-font-color1: white;\n",
       "                    --jp-layout-color2: #454545;\n",
       "                    background-color: #383838;\n",
       "                }\n",
       "                    \n",
       "                .geemap-dark .jupyter-button {\n",
       "                    --jp-layout-color3: #383838;\n",
       "                }\n",
       "                \n",
       "                .geemap-colab {\n",
       "                    background-color: var(--colab-primary-surface-color, white);\n",
       "                }\n",
       "                    \n",
       "                .geemap-colab .jupyter-button {\n",
       "                    --jp-layout-color3: var(--colab-primary-surface-color, white);\n",
       "                }\n",
       "            </style>\n",
       "            "
      ],
      "text/plain": [
       "<IPython.core.display.HTML object>"
      ]
     },
     "metadata": {},
     "output_type": "display_data"
    }
   ],
   "source": [
    "aoi = ee.FeatureCollection(\"FAO/GAUL/2015/level0\").filter(ee.Filter.eq('ADM0_NAME','India')).geometry()"
   ]
  },
  {
   "cell_type": "code",
   "execution_count": 11,
   "metadata": {
    "ExecuteTime": {
     "end_time": "2024-02-17T13:46:55.476130Z",
     "start_time": "2024-02-17T13:46:55.467631Z"
    }
   },
   "outputs": [
    {
     "data": {
      "text/html": [
       "\n",
       "            <style>\n",
       "                .geemap-dark {\n",
       "                    --jp-widgets-color: white;\n",
       "                    --jp-widgets-label-color: white;\n",
       "                    --jp-ui-font-color1: white;\n",
       "                    --jp-layout-color2: #454545;\n",
       "                    background-color: #383838;\n",
       "                }\n",
       "                    \n",
       "                .geemap-dark .jupyter-button {\n",
       "                    --jp-layout-color3: #383838;\n",
       "                }\n",
       "                \n",
       "                .geemap-colab {\n",
       "                    background-color: var(--colab-primary-surface-color, white);\n",
       "                }\n",
       "                    \n",
       "                .geemap-colab .jupyter-button {\n",
       "                    --jp-layout-color3: var(--colab-primary-surface-color, white);\n",
       "                }\n",
       "            </style>\n",
       "            "
      ],
      "text/plain": [
       "<IPython.core.display.HTML object>"
      ]
     },
     "metadata": {},
     "output_type": "display_data"
    }
   ],
   "source": [
    "def getNDVI(image):\n",
    "    \n",
    "    # Normalized difference vegetation index (NDVI)\n",
    "    ndvi = image.normalizedDifference(['B8','B4']).rename(\"NDVI\")\n",
    "    image = image.addBands(ndvi)\n",
    "\n",
    "    return(image)"
   ]
  },
  {
   "cell_type": "code",
   "execution_count": 12,
   "metadata": {
    "ExecuteTime": {
     "end_time": "2024-02-17T13:47:03.977905Z",
     "start_time": "2024-02-17T13:47:03.971444Z"
    }
   },
   "outputs": [
    {
     "data": {
      "text/html": [
       "\n",
       "            <style>\n",
       "                .geemap-dark {\n",
       "                    --jp-widgets-color: white;\n",
       "                    --jp-widgets-label-color: white;\n",
       "                    --jp-ui-font-color1: white;\n",
       "                    --jp-layout-color2: #454545;\n",
       "                    background-color: #383838;\n",
       "                }\n",
       "                    \n",
       "                .geemap-dark .jupyter-button {\n",
       "                    --jp-layout-color3: #383838;\n",
       "                }\n",
       "                \n",
       "                .geemap-colab {\n",
       "                    background-color: var(--colab-primary-surface-color, white);\n",
       "                }\n",
       "                    \n",
       "                .geemap-colab .jupyter-button {\n",
       "                    --jp-layout-color3: var(--colab-primary-surface-color, white);\n",
       "                }\n",
       "            </style>\n",
       "            "
      ],
      "text/plain": [
       "<IPython.core.display.HTML object>"
      ]
     },
     "metadata": {},
     "output_type": "display_data"
    }
   ],
   "source": [
    "def addDate(image):\n",
    "    img_date = ee.Date(image.date())\n",
    "    img_date = ee.Number.parse(img_date.format('YYYYMMdd'))\n",
    "    return image.addBands(ee.Image(img_date).rename('date').toInt())"
   ]
  },
  {
   "cell_type": "code",
   "execution_count": 13,
   "metadata": {
    "ExecuteTime": {
     "end_time": "2024-02-17T13:47:39.878474Z",
     "start_time": "2024-02-17T13:47:39.867551Z"
    }
   },
   "outputs": [
    {
     "data": {
      "text/html": [
       "\n",
       "            <style>\n",
       "                .geemap-dark {\n",
       "                    --jp-widgets-color: white;\n",
       "                    --jp-widgets-label-color: white;\n",
       "                    --jp-ui-font-color1: white;\n",
       "                    --jp-layout-color2: #454545;\n",
       "                    background-color: #383838;\n",
       "                }\n",
       "                    \n",
       "                .geemap-dark .jupyter-button {\n",
       "                    --jp-layout-color3: #383838;\n",
       "                }\n",
       "                \n",
       "                .geemap-colab {\n",
       "                    background-color: var(--colab-primary-surface-color, white);\n",
       "                }\n",
       "                    \n",
       "                .geemap-colab .jupyter-button {\n",
       "                    --jp-layout-color3: var(--colab-primary-surface-color, white);\n",
       "                }\n",
       "            </style>\n",
       "            "
      ],
      "text/plain": [
       "<IPython.core.display.HTML object>"
      ]
     },
     "metadata": {},
     "output_type": "display_data"
    }
   ],
   "source": [
    "Sentinel_data = ee.ImageCollection('COPERNICUS/S2').filterDate(\"2022-03-01\",\"2022-03-31\").filterBounds(aoi) \\\n",
    "    .map(getNDVI).map(addDate).median()"
   ]
  },
  {
   "cell_type": "code",
   "execution_count": 14,
   "metadata": {
    "ExecuteTime": {
     "end_time": "2024-02-17T13:47:59.078472Z",
     "start_time": "2024-02-17T13:47:59.061807Z"
    }
   },
   "outputs": [
    {
     "data": {
      "text/html": [
       "\n",
       "            <style>\n",
       "                .geemap-dark {\n",
       "                    --jp-widgets-color: white;\n",
       "                    --jp-widgets-label-color: white;\n",
       "                    --jp-ui-font-color1: white;\n",
       "                    --jp-layout-color2: #454545;\n",
       "                    background-color: #383838;\n",
       "                }\n",
       "                    \n",
       "                .geemap-dark .jupyter-button {\n",
       "                    --jp-layout-color3: #383838;\n",
       "                }\n",
       "                \n",
       "                .geemap-colab {\n",
       "                    background-color: var(--colab-primary-surface-color, white);\n",
       "                }\n",
       "                    \n",
       "                .geemap-colab .jupyter-button {\n",
       "                    --jp-layout-color3: var(--colab-primary-surface-color, white);\n",
       "                }\n",
       "            </style>\n",
       "            "
      ],
      "text/plain": [
       "<IPython.core.display.HTML object>"
      ]
     },
     "metadata": {},
     "output_type": "display_data"
    }
   ],
   "source": [
    "color = ['FFFFFF', 'CE7E45', 'DF923D', 'F1B555', 'FCD163', '99B718',\n",
    "               '74A901', '66A000', '529400', '3E8601', '207401', '056201',\n",
    "               '004C00', '023B01', '012E01', '011D01', '011301']\n",
    "pallete = {\"min\":0, \"max\":1, 'palette':color}"
   ]
  },
  {
   "cell_type": "code",
   "execution_count": 16,
   "metadata": {
    "ExecuteTime": {
     "end_time": "2024-02-17T13:48:40.171986Z",
     "start_time": "2024-02-17T13:48:06.290035Z"
    },
    "scrolled": false
   },
   "outputs": [
    {
     "data": {
      "text/html": [
       "\n",
       "            <style>\n",
       "                .geemap-dark {\n",
       "                    --jp-widgets-color: white;\n",
       "                    --jp-widgets-label-color: white;\n",
       "                    --jp-ui-font-color1: white;\n",
       "                    --jp-layout-color2: #454545;\n",
       "                    background-color: #383838;\n",
       "                }\n",
       "                    \n",
       "                .geemap-dark .jupyter-button {\n",
       "                    --jp-layout-color3: #383838;\n",
       "                }\n",
       "                \n",
       "                .geemap-colab {\n",
       "                    background-color: var(--colab-primary-surface-color, white);\n",
       "                }\n",
       "                    \n",
       "                .geemap-colab .jupyter-button {\n",
       "                    --jp-layout-color3: var(--colab-primary-surface-color, white);\n",
       "                }\n",
       "            </style>\n",
       "            "
      ],
      "text/plain": [
       "<IPython.core.display.HTML object>"
      ]
     },
     "metadata": {},
     "output_type": "display_data"
    },
    {
     "data": {
      "application/vnd.jupyter.widget-view+json": {
       "model_id": "012628547b0641b385462c7743900173",
       "version_major": 2,
       "version_minor": 0
      },
      "text/plain": [
       "Map(center=[22.22810924998663, 79.40094700957486], controls=(WidgetControl(options=['position', 'transparent_b…"
      ]
     },
     "execution_count": 16,
     "metadata": {},
     "output_type": "execute_result"
    }
   ],
   "source": [
    "map1 = geemap.Map()\n",
    "map1.centerObject(aoi, 8)\n",
    "map1.addLayer(Sentinel_data.clip(aoi).select('NDVI'), pallete, \"NDVI\")\n",
    "\n",
    "map1.addLayerControl()\n",
    "map1"
   ]
  },
  {
   "cell_type": "code",
   "execution_count": null,
   "metadata": {},
   "outputs": [],
   "source": []
  }
 ],
 "metadata": {
  "colab": {
   "authorship_tag": "ABX9TyPprHEXY7HA4ww5h0O5mCD+",
   "include_colab_link": true,
   "provenance": []
  },
  "kernelspec": {
   "display_name": "Python 3 (ipykernel)",
   "language": "python",
   "name": "python3"
  },
  "language_info": {
   "codemirror_mode": {
    "name": "ipython",
    "version": 3
   },
   "file_extension": ".py",
   "mimetype": "text/x-python",
   "name": "python",
   "nbconvert_exporter": "python",
   "pygments_lexer": "ipython3",
   "version": "3.10.13"
  }
 },
 "nbformat": 4,
 "nbformat_minor": 1
}
